{
 "cells": [
  {
   "attachments": {},
   "cell_type": "markdown",
   "id": "7edd6b7d-1bd2-4fcd-9336-13c6d8c98f2c",
   "metadata": {},
   "source": [
    "# Basic use of fundamental functions\n",
    "\n",
    "$\\newcommand{\\bDelta}{\\boldsymbol{\\Delta}}\n",
    "\\newcommand{\\bmu}{\\boldsymbol{\\mu}}\n",
    "\\newcommand{\\bnu}{\\boldsymbol{\\nu}}\n",
    "\\newcommand{\\bsigma}{\\boldsymbol{\\sigma}}\n",
    "\\newcommand{\\bSigma}{\\boldsymbol{\\Sigma}}\n",
    "\\newcommand{\\btheta}{\\boldsymbol{\\theta}}\n",
    "\\newcommand{\\blambda}{\\boldsymbol{\\lambda}}\n",
    "\\newcommand{\\Xs}{X_{\\mathrm{s}}}\n",
    "\\newcommand{\\Xt}{X_{\\mathrm{t}}}\n",
    "\\newcommand{\\gs}{\\mathbf{g}_{\\mathrm{s}}}\n",
    "\\newcommand{\\gt}{\\mathbf{g}_{\\mathrm{t}}}\n",
    "\\newcommand{\\Hs}{\\mathbf{H}_{\\mathrm{s}}}\n",
    "\\newcommand{\\Ht}{\\mathbf{H}_{\\mathrm{t}}}\n",
    "\\newcommand{\\caL}{\\mathcal{L}}\n",
    "\\newcommand{\\bD}{\\mathbf{D}}\n",
    "\\newcommand{\\be}{\\mathbf{e}}\n",
    "\\newcommand{\\bg}{\\mathbf{g}}\n",
    "\\newcommand{\\bG}{\\mathbf{G}}\n",
    "\\newcommand{\\bH}{\\mathbf{H}}\n",
    "\\newcommand{\\bI}{\\mathbf{I}}\n",
    "\\newcommand{\\bJ}{\\mathbf{J}}\n",
    "\\newcommand{\\bK}{\\mathbf{K}}\n",
    "\\newcommand{\\bM}{\\mathbf{M}}\n",
    "\\newcommand{\\bP}{\\mathbf{P}}\n",
    "\\newcommand{\\bT}{\\mathbf{T}}\n",
    "\\newcommand{\\bU}{\\mathbf{U}}\n",
    "\\newcommand{\\bu}{\\mathbf{u}}\n",
    "\\newcommand{\\bv}{\\mathbf{v}}\n",
    "\\newcommand{\\bLambda}{\\boldsymbol{\\Lambda}}\n",
    "\\newcommand{\\bfeta}{\\boldsymbol{\\eta}}$<!--\n",
    "-->In this example, we show how to use the functions computing $\\bar{\\bH}$, $\\bar{\\bg}$, $\\bD$ and $\\bfeta^*$, where the chosen direction $\\bu$ is the opposite of the gradient: $\\bu := - \\bg$.\n",
    "\n",
    "## Short reminder\n",
    "\n",
    "We consider a vector of parameters $\\btheta \\in \\mathbb{R}^P$. We represent this vector by\n",
    "a tuple of $S$ subsets (or groups) of parameters $(\\bT_1, \\cdots, \\bT_S)$. This tuple can be seen\n",
    "as a partition of the set of the indices $\\{1, \\cdots, P\\}$ of the vector $\\btheta$,\n",
    "so that each parameter $\\theta_p$ belongs to exactly one subset (or group) $\\bT_s$.\n",
    "We assume that $S \\ll P$.\n",
    "\n",
    "The goal consists in finding a vector $\\bfeta \\in \\mathbb{R}^S$ of learning rates,\n",
    "where each coordinate $\\eta_s$ is the learning rate corresponding to a subset $\\bT_s$.\n",
    "At each training step $t$, given a proposition of direction of descent $\\bu_t$, we aim to build the\n",
    "$\\bfeta_t$ maximizing the loss decrease. To do so, we take into account second- and third-order information.\n",
    "\n",
    "Therefore, we define:\n",
    "$$\n",
    "\\begin{aligned}\n",
    "\\bar{\\bH}_t = \\bI_{S:P} \\bU_t \\bH_t \\bU_t \\bI_{P:S} , \\qquad\n",
    "\\bar{\\bg}_t = \\bI_{S:P} \\bU_t \\bg_t , \\qquad\n",
    "\\bD_t = \\mathrm{Diag}(|\\bD^{(3)}_{\\btheta_t}(\\bu_t)|^{1/3}_{iii} : i \\in \\{1, \\cdots, S\\}) ,\n",
    "\\end{aligned}\n",
    "$$\n",
    "where $\\bg_t$ is the gradient of the loss at $\\btheta_t$ and $\\bH_t$ is its Hessian.\n",
    "Also, $\\bU_t = \\mathrm{Diag}(\\bu_t)$, $\\bI_{S:P}$ is the partition matrix: $(\\bI_{S:P})_{sp} = 1$ iff $\\theta_p \\in \\bT_s$ else $0$, \n",
    "$\\bI_{P:S} = \\bI_{S:P}^T$. Note that: $\\bar{\\bH}_t \\in \\mathbb{R}^{S \\times S}$, $\\bar{\\bg}_t \\in \\mathbb{R}^{S}$, $\\bD_t \\in \\mathbb{R}^{S \\times S}$.\n",
    "\n",
    "The training step of our method is: $\\btheta_{t + 1} = \\btheta_t - \\bU_t \\bI_{P:S} \\bfeta_t^*$, where\n",
    "$\\bfeta_t^*$ is the solution of largest norm $\\|\\bD_t \\bfeta\\|$ of the equation:\n",
    "$$\n",
    "\\begin{aligned}\n",
    "\\bfeta &= \\left(\\bar{\\bH}_t + \\frac{\\lambda_{\\mathrm{int}}}{2} \\|\\bD_t \\bfeta\\| \\bD_t^2\\right)^{-1}\\bar{\\bg}_t ,\n",
    "\\end{aligned}\n",
    "$$\n",
    "where $\\lambda_{\\mathrm{int}}$ is the internal damping, which is a hyperparameter to set."
   ]
  },
  {
   "cell_type": "markdown",
   "id": "07194964-f12c-43a3-8d41-12d667b4bd39",
   "metadata": {},
   "source": [
    "## Preparation\n",
    "\n",
    "We build a small dataset and a small model."
   ]
  },
  {
   "cell_type": "code",
   "execution_count": 1,
   "id": "4ae0dd1c-2f9f-4753-9b34-48b54c8a6569",
   "metadata": {},
   "outputs": [],
   "source": [
    "import numpy as np\n",
    "import torch\n",
    "import matplotlib\n",
    "from matplotlib import pyplot as plt\n",
    "from grnewt import compute_Hg, nesterov_lrs, fullbatch_gradient\n",
    "from grnewt import partition as build_partition\n",
    "%matplotlib inline"
   ]
  },
  {
   "cell_type": "code",
   "execution_count": 2,
   "id": "bb5e8516-3a78-47a8-a3ab-cf62c8a08511",
   "metadata": {},
   "outputs": [],
   "source": [
    "# Build dummy regression dataset\n",
    "\n",
    "size_in = 5\n",
    "size_out = 4\n",
    "batch_size = 10\n",
    "\n",
    "data_in = torch.randn(batch_size, size_in)\n",
    "data_tar = torch.randn(batch_size, size_out)\n",
    "\n",
    "dataset = torch.utils.data.TensorDataset(data_in, data_tar)\n",
    "data_loader = torch.utils.data.DataLoader(dataset, batch_size)"
   ]
  },
  {
   "cell_type": "code",
   "execution_count": 3,
   "id": "96567dc4-cc24-43d4-bdb1-7658d3d7fec2",
   "metadata": {},
   "outputs": [],
   "source": [
    "# Define simple model\n",
    "\n",
    "size_hidden = 6\n",
    "act_function_cl = torch.nn.Tanh\n",
    "\n",
    "class Model(torch.nn.Module):\n",
    "    def __init__(self):\n",
    "        super(Model, self).__init__()\n",
    "\n",
    "        self.hidden_layer = torch.nn.Linear(size_in, size_hidden)\n",
    "        self.activation = act_function_cl()\n",
    "        self.out_layer = torch.nn.Linear(size_hidden, size_out)\n",
    "\n",
    "    def forward(self, x):\n",
    "        x = self.hidden_layer(x)\n",
    "        x = self.activation(x)\n",
    "        return self.out_layer(x)"
   ]
  },
  {
   "cell_type": "code",
   "execution_count": 4,
   "id": "dbea0763-9fda-443a-b5b0-11d132d00280",
   "metadata": {},
   "outputs": [],
   "source": [
    "# Build model\n",
    "model = Model()"
   ]
  },
  {
   "cell_type": "markdown",
   "id": "f1fc94ac-24b1-46f2-9659-c4daf4620dcc",
   "metadata": {},
   "source": [
    "## Build the partition\n",
    "\n",
    "*Sub-package* `grnewt.partition`.\n",
    "\n",
    "We build the partition of the parameters, which can be:\n",
    " * `canonical`: one tensor per subset;\n",
    " * `trivial`: all the parameters in the same subset;\n",
    " * `wb`: all the weights in one subset, all the biases in another one, and all the remaining parameters in a third one if necessary;\n",
    " * any custom partition.\n",
    "\n",
    "We build also some constants useful for the subsequent computation."
   ]
  },
  {
   "cell_type": "code",
   "execution_count": 5,
   "id": "f29ebd9d-15ff-4ba0-9975-4fb496545afa",
   "metadata": {
    "scrolled": true
   },
   "outputs": [
    {
     "name": "stdout",
     "output_type": "stream",
     "text": [
      "Partition with 4 subset(s).\n",
      "Subset #0 (size = 1):\n",
      "    hidden_layer.weight\n",
      "Subset #1 (size = 1):\n",
      "    hidden_layer.bias\n",
      "Subset #2 (size = 1):\n",
      "    out_layer.weight\n",
      "Subset #3 (size = 1):\n",
      "    out_layer.bias\n"
     ]
    }
   ],
   "source": [
    "# List of parameters\n",
    "tup_params = list(model.parameters())\n",
    "\n",
    "# Partition of the parameters\n",
    "param_groups, name_groups = build_partition.canonical(model) # canonical, trivial, wb\n",
    "nb_groups = len(name_groups)\n",
    "\n",
    "# List of sizes of each subset\n",
    "group_sizes = [len(pgroup['params']) for pgroup in param_groups]\n",
    "\n",
    "# List of starting index and ending index of each subset\n",
    "group_indices = [0] + list(np.cumsum(group_sizes))\n",
    "\n",
    "# Show the partition\n",
    "print(f'Partition with {nb_groups} subset(s).')\n",
    "for idx, ngroup in enumerate(name_groups):\n",
    "    print(f'Subset #{idx} (size = {len(ngroup)}):')\n",
    "    for name in ngroup:\n",
    "        print(f'    {name}')"
   ]
  },
  {
   "cell_type": "markdown",
   "id": "19ea60c6-90d6-453b-964b-935f01d10d20",
   "metadata": {},
   "source": [
    "## Computation of $\\bar{\\bH}$, $\\bar{\\bg}$ and $\\bD$\n",
    "\n",
    "*Function* `grnewt.hg.compute_Hg`.\n",
    "\n",
    "*Function* `grnewt.util.fullbatch.fullbatch_gradient` *(to compute the direction* $\\bu$*).*\n",
    "\n",
    "Note: $\\bD$ is singular when using the MSE loss on the top of a model whose last layer is linear. In that case, anisotropic Nesterov regularization is impossible (or must be adapted)"
   ]
  },
  {
   "cell_type": "code",
   "execution_count": 6,
   "id": "8e4eac76-69a6-4201-8236-25d7c606546f",
   "metadata": {},
   "outputs": [],
   "source": [
    "# Build losses\n",
    "\n",
    "#loss_fn = torch.nn.MSELoss()    # order3\n",
    "loss_fn = lambda x, y: (x - y).pow(2).mean() #.sqrt()\n",
    "full_loss = lambda x, y: loss_fn(model(x), y)"
   ]
  },
  {
   "cell_type": "code",
   "execution_count": 7,
   "id": "f869ddf5-6132-4400-af4b-42f7752f7319",
   "metadata": {},
   "outputs": [],
   "source": [
    "# Compute the direction of training\n",
    "\n",
    "gradient = fullbatch_gradient(model, loss_fn, tup_params, data_loader, batch_size)\n",
    "direction = tuple(-grad for grad in gradient)"
   ]
  },
  {
   "cell_type": "code",
   "execution_count": 8,
   "id": "62c104e8-8dae-411c-bd31-e961467dccdb",
   "metadata": {},
   "outputs": [],
   "source": [
    "# Compute H, g, order3\n",
    "\n",
    "H, g, order3 = compute_Hg(tup_params, full_loss, data_in, data_tar, direction, \n",
    "           param_groups = param_groups, group_sizes = group_sizes, group_indices = group_indices)"
   ]
  },
  {
   "cell_type": "code",
   "execution_count": 9,
   "id": "1dd94154-42d1-448f-ac04-8d6e0c0ace8c",
   "metadata": {},
   "outputs": [
    {
     "data": {
      "text/plain": [
       "Text(0.5, -0.16, '$\\\\mathbf{D}$')"
      ]
     },
     "execution_count": 9,
     "metadata": {},
     "output_type": "execute_result"
    },
    {
     "data": {
      "image/png": "[encoded data removed]",
      "text/plain": [
       "<Figure size 640x480 with 3 Axes>"
      ]
     },
     "metadata": {},
     "output_type": "display_data"
    }
   ],
   "source": [
    "# Plot H, g, order3\n",
    "\n",
    "fig, ax = plt.subplots(1, 3, width_ratios = [1/nb_groups, 1, 1])\n",
    "\n",
    "ticks = list(range(nb_groups))\n",
    "\n",
    "gmax = g.abs().max()\n",
    "ax[0].matshow(g.unsqueeze(1), cmap = 'seismic', vmin = -gmax, vmax = gmax)\n",
    "ax[0].tick_params(bottom = False)\n",
    "ax[0].set_xticks([0])\n",
    "ax[0].set_xticklabels([0])\n",
    "ax[0].set_yticks(ticks)\n",
    "ax[0].set_yticklabels(ticks)\n",
    "ax[0].set_title(r'$\\bar{\\mathbf{g}}$', y = -.16)\n",
    "\n",
    "Hmax = H.abs().max()\n",
    "ax[1].matshow(H, cmap = 'seismic', vmin = -Hmax, vmax = Hmax)\n",
    "ax[1].tick_params(bottom = False)\n",
    "ax[1].set_xticks(ticks)\n",
    "ax[1].set_xticklabels(ticks)\n",
    "ax[1].set_yticks(ticks)\n",
    "ax[1].set_yticklabels(ticks)\n",
    "ax[1].set_title(r'$\\bar{\\mathbf{H}}$', y = -.16)\n",
    "\n",
    "regul = order3.abs().pow(2/3)\n",
    "regul_max = regul.max()\n",
    "ax[2].matshow(regul.diag(), cmap = 'seismic', vmin = -regul_max, vmax = regul_max)\n",
    "ax[2].tick_params(bottom = False)\n",
    "ax[2].set_xticks(ticks)\n",
    "ax[2].set_xticklabels(ticks)\n",
    "ax[2].set_yticks(ticks)\n",
    "ax[2].set_yticklabels(ticks)\n",
    "ax[2].set_title(r'$\\mathbf{D}$', y = -.16)"
   ]
  },
  {
   "cell_type": "markdown",
   "id": "049fe0e8-fc4f-4771-89f1-fb48a69eb927",
   "metadata": {},
   "source": [
    "## Computation of $\\bfeta^*$\n",
    "\n",
    "*Function* `grnewt.nesterov.nesterov_lrs`."
   ]
  },
  {
   "cell_type": "code",
   "execution_count": 10,
   "id": "900e3a15-0ef1-4a97-bf88-1f163ed0b5a1",
   "metadata": {},
   "outputs": [],
   "source": [
    "# Compute the learning rates with anisotropic Nesterov regularization\n",
    "damping_int = .1\n",
    "lrs, r_root, r_converged = nesterov_lrs(H, g, order3, damping_int = damping_int)\n",
    "\n",
    "# Without regularization\n",
    "lrs_without = torch.linalg.solve(H, g)"
   ]
  },
  {
   "cell_type": "code",
   "execution_count": 11,
   "id": "6b422ada-2318-437c-9d9c-9f633b28f72e",
   "metadata": {},
   "outputs": [
    {
     "data": {
      "text/plain": [
       "Text(0.5, -0.09, '$\\\\boldsymbol{\\\\eta}^*_{\\\\text{noregul}}$')"
      ]
     },
     "execution_count": 11,
     "metadata": {},
     "output_type": "execute_result"
    },
    {
     "data": {
      "image/png": "[encoded data removed]",
      "text/plain": [
       "<Figure size 640x480 with 2 Axes>"
      ]
     },
     "metadata": {},
     "output_type": "display_data"
    }
   ],
   "source": [
    "# Plot the learning rates with and without Nesterov regularization\n",
    "\n",
    "fig, ax = plt.subplots(1, 2, width_ratios = [1, 1])\n",
    "\n",
    "ticks = list(range(nb_groups))\n",
    "\n",
    "lrs_max = max(lrs.abs().max(), lrs_without.abs().max())\n",
    "ax[0].matshow(lrs.unsqueeze(1), cmap = 'seismic', vmin = -lrs_max, vmax = lrs_max)\n",
    "ax[0].tick_params(bottom = False)\n",
    "ax[0].set_xticks([0])\n",
    "ax[0].set_xticklabels([0])\n",
    "ax[0].set_yticks(ticks)\n",
    "ax[0].set_yticklabels(ticks)\n",
    "ax[0].set_title(r'$\\boldsymbol{\\eta}^*$', y = -.09)\n",
    "\n",
    "ax[1].matshow(lrs_without.unsqueeze(1), cmap = 'seismic', vmin = -lrs_max, vmax = lrs_max)\n",
    "ax[1].tick_params(bottom = False)\n",
    "ax[1].set_xticks([0])\n",
    "ax[1].set_xticklabels([0])\n",
    "ax[1].set_yticks(ticks)\n",
    "ax[1].set_yticklabels(ticks)\n",
    "ax[1].set_title(r'$\\boldsymbol{\\eta}^*_{\\text{noregul}}$', y = -.09)"
   ]
  },
  {
   "cell_type": "code",
   "execution_count": null,
   "id": "b684b0fe-a8cd-4631-aeef-3dde5c92e1e6",
   "metadata": {},
   "outputs": [],
   "source": []
  }
 ],
 "metadata": {
  "kernelspec": {
   "display_name": "Python 3 (ipykernel)",
   "language": "python",
   "name": "python3"
  },
  "language_info": {
   "codemirror_mode": {
    "name": "ipython",
    "version": 3
   },
   "file_extension": ".py",
   "mimetype": "text/x-python",
   "name": "python",
   "nbconvert_exporter": "python",
   "pygments_lexer": "ipython3",
   "version": "3.11.5"
  }
 },
 "nbformat": 4,
 "nbformat_minor": 5
}
