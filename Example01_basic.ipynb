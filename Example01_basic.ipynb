{
 "cells": [
  {
   "cell_type": "code",
   "execution_count": 23,
   "id": "4ae0dd1c-2f9f-4753-9b34-48b54c8a6569",
   "metadata": {},
   "outputs": [],
   "source": [
    "import numpy as np\n",
    "import torch\n",
    "import matplotlib\n",
    "from matplotlib import pyplot as plt\n",
    "from grnewt import compute_Hg, nesterov_lrs, fullbatch_gradient\n",
    "from grnewt import partition as build_partition"
   ]
  },
  {
   "cell_type": "code",
   "execution_count": 2,
   "id": "bb5e8516-3a78-47a8-a3ab-cf62c8a08511",
   "metadata": {},
   "outputs": [],
   "source": [
    "# Build dummy regression dataset\n",
    "\n",
    "size_in = 5\n",
    "size_out = 4\n",
    "batch_size = 10\n",
    "\n",
    "data_in = torch.randn(batch_size, size_in)\n",
    "data_tar = torch.randn(batch_size, size_out)\n",
    "\n",
    "dataset = torch.utils.data.TensorDataset(data_in, data_tar)\n",
    "data_loader = torch.utils.data.DataLoader(dataset, batch_size)"
   ]
  },
  {
   "cell_type": "code",
   "execution_count": 3,
   "id": "96567dc4-cc24-43d4-bdb1-7658d3d7fec2",
   "metadata": {},
   "outputs": [],
   "source": [
    "# Define simple model\n",
    "\n",
    "size_hidden = 6\n",
    "act_function_cl = torch.nn.Tanh\n",
    "\n",
    "class Model(torch.nn.Module):\n",
    "    def __init__(self):\n",
    "        super(Model, self).__init__()\n",
    "\n",
    "        self.hidden_layer = torch.nn.Linear(size_in, size_hidden)\n",
    "        self.activation = act_function_cl()\n",
    "        self.out_layer = torch.nn.Linear(size_hidden, size_out)\n",
    "\n",
    "    def forward(self, x):\n",
    "        x = self.hidden_layer(x)\n",
    "        x = self.activation(x)\n",
    "        return self.out_layer(x)"
   ]
  },
  {
   "cell_type": "code",
   "execution_count": 4,
   "id": "f29ebd9d-15ff-4ba0-9975-4fb496545afa",
   "metadata": {
    "scrolled": true
   },
   "outputs": [
    {
     "name": "stdout",
     "output_type": "stream",
     "text": [
      "Partition with 4 subset(s).\n",
      "Subset #0 (size = 1):\n",
      "    hidden_layer.weight\n",
      "Subset #1 (size = 1):\n",
      "    hidden_layer.bias\n",
      "Subset #2 (size = 1):\n",
      "    out_layer.weight\n",
      "Subset #3 (size = 1):\n",
      "    out_layer.bias\n"
     ]
    }
   ],
   "source": [
    "# Build model\n",
    "model = Model()\n",
    "\n",
    "# List of parameters\n",
    "tup_params = list(model.parameters())\n",
    "\n",
    "# Partition of the parameters\n",
    "param_groups, name_groups = build_partition.canonical(model) # canonical, trivial, wb\n",
    "\n",
    "# List of sizes of each subset\n",
    "group_sizes = [len(pgroup['params']) for pgroup in param_groups]\n",
    "\n",
    "# List of starting index and ending index of each subset\n",
    "group_indices = [0] + list(np.cumsum(group_sizes))\n",
    "\n",
    "# Show the partition\n",
    "print(f'Partition with {len(name_groups)} subset(s).')\n",
    "for idx, ngroup in enumerate(name_groups):\n",
    "    print(f'Subset #{idx} (size = {len(ngroup)}):')\n",
    "    for name in ngroup:\n",
    "        print(f'    {name}')"
   ]
  },
  {
   "cell_type": "code",
   "execution_count": 5,
   "id": "8e4eac76-69a6-4201-8236-25d7c606546f",
   "metadata": {},
   "outputs": [],
   "source": [
    "# Build losses\n",
    "\n",
    "#loss_fn = torch.nn.MSELoss()    # order3\n",
    "loss_fn = lambda x, y: (x - y).pow(2).mean().sqrt()\n",
    "full_loss = lambda x, y: loss_fn(model(x), y)"
   ]
  },
  {
   "cell_type": "code",
   "execution_count": 10,
   "id": "f869ddf5-6132-4400-af4b-42f7752f7319",
   "metadata": {},
   "outputs": [],
   "source": [
    "gradient = fullbatch_gradient(model, loss_fn, tup_params, data_loader, batch_size)\n",
    "direction = tuple(-grad for grad in gradient)"
   ]
  },
  {
   "cell_type": "code",
   "execution_count": 19,
   "id": "62c104e8-8dae-411c-bd31-e961467dccdb",
   "metadata": {},
   "outputs": [],
   "source": [
    "H, g, order3 = compute_Hg(tup_params, full_loss, data_in, data_tar, direction, \n",
    "           param_groups = param_groups, group_sizes = group_sizes, group_indices = group_indices)"
   ]
  },
  {
   "cell_type": "code",
   "execution_count": 21,
   "id": "900e3a15-0ef1-4a97-bf88-1f163ed0b5a1",
   "metadata": {},
   "outputs": [],
   "source": [
    "damping_int = 1.\n",
    "lrs, r_root, r_converged = nesterov_lrs(H, g, order3, damping_int = damping_int)"
   ]
  },
  {
   "cell_type": "code",
   "execution_count": 22,
   "id": "aa77eadb-9596-4a3a-bed5-e7c11a10a4c1",
   "metadata": {},
   "outputs": [
    {
     "data": {
      "text/plain": [
       "tensor([ 1.8101, 21.4407, -9.0042, -4.3080])"
      ]
     },
     "execution_count": 22,
     "metadata": {},
     "output_type": "execute_result"
    }
   ],
   "source": [
    "lrs"
   ]
  },
  {
   "cell_type": "code",
   "execution_count": null,
   "id": "9290e58a-9ca5-4696-83de-bdb7e5f66ad9",
   "metadata": {},
   "outputs": [],
   "source": []
  }
 ],
 "metadata": {
  "kernelspec": {
   "display_name": "Python 3 (ipykernel)",
   "language": "python",
   "name": "python3"
  },
  "language_info": {
   "codemirror_mode": {
    "name": "ipython",
    "version": 3
   },
   "file_extension": ".py",
   "mimetype": "text/x-python",
   "name": "python",
   "nbconvert_exporter": "python",
   "pygments_lexer": "ipython3",
   "version": "3.11.5"
  }
 },
 "nbformat": 4,
 "nbformat_minor": 5
}
