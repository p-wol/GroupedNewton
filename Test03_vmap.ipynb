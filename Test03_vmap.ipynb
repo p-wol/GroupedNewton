{
 "cells": [
  {
   "cell_type": "code",
   "execution_count": 10,
   "id": "265c10c8",
   "metadata": {},
   "outputs": [],
   "source": [
    "import torch\n",
    "from torch.func import vmap, jacrev"
   ]
  },
  {
   "cell_type": "code",
   "execution_count": 5,
   "id": "afb9dec4",
   "metadata": {},
   "outputs": [],
   "source": [
    "def final_loss(y1, y2):\n",
    "    return (y1 - y2).pow(2).mean()\n",
    "\n",
    "def build_full_loss(final_loss, model, x, y):\n",
    "    def full_loss(*params):\n",
    "        output = torch.func.functional_call(model, {k: p for (k, v), p in zip(model.named_parameters(), params)}, x)\n",
    "        return final_loss(output, y)\n",
    "    return full_loss"
   ]
  },
  {
   "cell_type": "code",
   "execution_count": 2,
   "id": "ae2b84ca",
   "metadata": {},
   "outputs": [],
   "source": [
    "dim_in = 4\n",
    "dim_out = 3\n",
    "batch_size = 7\n",
    "\n",
    "x = torch.randn(batch_size, dim_in)\n",
    "y = torch.randn(batch_size, dim_out)\n",
    "\n",
    "m = torch.nn.Linear(dim_in, dim_out)"
   ]
  },
  {
   "cell_type": "code",
   "execution_count": 9,
   "id": "e5f55e56",
   "metadata": {},
   "outputs": [
    {
     "name": "stdout",
     "output_type": "stream",
     "text": [
      "tensor([[ 0.0036,  0.3164, -0.1004, -0.2653],\n",
      "        [-0.0085, -0.0053, -0.0745, -0.2524],\n",
      "        [ 0.5288,  0.2594,  0.4720, -0.5616]])\n",
      "tensor([ 0.2808,  0.1608, -0.0993])\n"
     ]
    }
   ],
   "source": [
    "m.zero_grad()\n",
    "\n",
    "output = m(x)\n",
    "loss = final_loss(output, y)\n",
    "loss.backward()\n",
    "\n",
    "for p in m.parameters():\n",
    "    print(p.grad)"
   ]
  },
  {
   "cell_type": "code",
   "execution_count": 27,
   "id": "fc051aaa",
   "metadata": {},
   "outputs": [
    {
     "data": {
      "text/plain": [
       "(tensor([[ 0.0036,  0.3164, -0.1004, -0.2653],\n",
       "         [-0.0085, -0.0053, -0.0745, -0.2524],\n",
       "         [ 0.5288,  0.2594,  0.4720, -0.5616]], grad_fn=<ViewBackward0>),\n",
       " tensor([ 0.2808,  0.1608, -0.0993], grad_fn=<ViewBackward0>))"
      ]
     },
     "execution_count": 27,
     "metadata": {},
     "output_type": "execute_result"
    }
   ],
   "source": [
    "m.zero_grad()\n",
    "\n",
    "full_loss = build_full_loss(final_loss, m, x, y)\n",
    "\n",
    "jacrev(full_loss, argnums = (0, 1))(*m.parameters())"
   ]
  },
  {
   "cell_type": "code",
   "execution_count": null,
   "id": "c6313284",
   "metadata": {},
   "outputs": [],
   "source": []
  }
 ],
 "metadata": {
  "kernelspec": {
   "display_name": "Python 3 (ipykernel)",
   "language": "python",
   "name": "python3"
  },
  "language_info": {
   "codemirror_mode": {
    "name": "ipython",
    "version": 3
   },
   "file_extension": ".py",
   "mimetype": "text/x-python",
   "name": "python",
   "nbconvert_exporter": "python",
   "pygments_lexer": "ipython3",
   "version": "3.12.3"
  }
 },
 "nbformat": 4,
 "nbformat_minor": 5
}
